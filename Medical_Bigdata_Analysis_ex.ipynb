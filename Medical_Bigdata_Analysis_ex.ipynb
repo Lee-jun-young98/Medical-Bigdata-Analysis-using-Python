{
 "cells": [
  {
   "cell_type": "code",
   "execution_count": 1,
   "id": "eea19cfa",
   "metadata": {},
   "outputs": [],
   "source": [
    "# python install\n",
    "# ! pip install python\n",
    "\n",
    "# ! pip install python==3.2"
   ]
  },
  {
   "cell_type": "code",
   "execution_count": 2,
   "id": "f47861eb",
   "metadata": {},
   "outputs": [
    {
     "name": "stdout",
     "output_type": "stream",
     "text": [
      "3.9.5\n"
     ]
    }
   ],
   "source": [
    "# python version 확인\n",
    "import platform\n",
    "\n",
    "print(platform.python_version())"
   ]
  },
  {
   "cell_type": "markdown",
   "id": "85fb1530",
   "metadata": {},
   "source": [
    "# Jupyter notebook 사용법\n",
    "## 마크다운 Markdown\n",
    "* `Esc + m`: markdown cell로 변경/ `Esc + y`: code cell로 변경\n",
    "* `ctrl + Enter` : 현재 cell 실행\n",
    "* `shift + Enter` : 현재 cell 실행 후 다음 커서\n",
    "* `Esc + a`: 위쪽에 라인삽입 /`Esc + b`: 아래쪽에 라인삽입/`Esc + dd`: 셀삭제\n",
    "\n",
    "* view > toggple line number\n",
    "* Kernel > Restart clear output\n",
    "\n",
    "* `h` > 단축키\n",
    "* 함수에 대한 도움말 = `shift + Tab`\n",
    "* 주석처리 : `ctrl + /`\n",
    "\n",
    "```\n",
    "여러 줄의 주석이\n",
    "가능함\n",
    "```"
   ]
  },
  {
   "cell_type": "markdown",
   "id": "df30c52b",
   "metadata": {},
   "source": [
    "# Pandas 를 이용한 data 전처리"
   ]
  },
  {
   "cell_type": "markdown",
   "id": "aec1d2a5",
   "metadata": {},
   "source": [
    "## 자료의 입력"
   ]
  },
  {
   "cell_type": "code",
   "execution_count": 3,
   "id": "fb751fac",
   "metadata": {},
   "outputs": [],
   "source": [
    "import pandas as pd\n",
    "import numpy as np"
   ]
  },
  {
   "cell_type": "code",
   "execution_count": 4,
   "id": "4463f458",
   "metadata": {},
   "outputs": [
    {
     "name": "stdout",
     "output_type": "stream",
     "text": [
      "    hdz chestpain  cholesterol  sysbp\n",
      "1   yes       yes          208    160\n",
      "2    no       yes          282    140\n",
      "3    no        no          235    188\n",
      "4    no       yes          277    162\n",
      "5   yes        no          280    122\n",
      "6   yes       yes          242    143\n",
      "7   yes        no          275    154\n",
      "8    no        no          214    177\n",
      "9   yes        no          231    165\n",
      "10   no       yes          206    123\n"
     ]
    }
   ],
   "source": [
    "# dataframe 자료 만들기, dictionary 형태로 입력\n",
    "\n",
    "df = pd.DataFrame({\n",
    "    'hdz':['yes', 'no', 'no', 'no', 'yes', 'yes', 'yes', 'no', 'yes', 'no'],\n",
    "    'chestpain': ['yes', 'yes', 'no', 'yes', 'no', 'yes', 'no', 'no', 'no', 'yes'],\n",
    "    'cholesterol':[208, 282, 235, 277, 280, 242, 275, 214, 231, 206],\n",
    "    'sysbp':[160, 140, 188, 162, 122, 143, 154, 177, 165, 123]\n",
    "}, index = range(1,11))\n",
    "\n",
    "print(df)"
   ]
  },
  {
   "cell_type": "code",
   "execution_count": 5,
   "id": "84b00fd0",
   "metadata": {},
   "outputs": [
    {
     "name": "stdout",
     "output_type": "stream",
     "text": [
      "         자치구 기준일  종로구 전체  종로구 추가  중구 전체  중구 추가  용산구 전체  용산구 추가  성동구 전체  \\\n",
      "0  2021.07.13.00     901      13    813      5    1611      13    1662   \n",
      "1  2021.07.12.00     888       5    808      2    1598       9    1643   \n",
      "2  2021.07.11.00     883       4    806      3    1589      14    1633   \n",
      "3  2021.07.10.00     879       9    803     10    1575      15    1601   \n",
      "4  2021.07.09.00     870       3    793      6    1560      17    1580   \n",
      "\n",
      "   성동구 추가  광진구 전체  ...  서추구 추가  강남구 전체  강남구 추가  송파구 전체  송파구 추가  강동구 전체  \\\n",
      "0      19    1866  ...      10    3836      46    3332      30    2195   \n",
      "1       9    1853  ...      22    3792      42    3302      36    2182   \n",
      "2      32    1831  ...      26    3750      61    3267      36    2172   \n",
      "3      20    1816  ...      27    3689      58    3231      16    2153   \n",
      "4      22    1799  ...      29    3631      44    3215      26    2139   \n",
      "\n",
      "   강동구 추가  기타 전체  기타 추가      수집일  \n",
      "0      13   4711     18  11:40.0  \n",
      "1      10   4690     13  11:40.0  \n",
      "2      19   4677     26  11:40.0  \n",
      "3      14   4651     26  11:40.0  \n",
      "4      25   4625     22  11:40.0  \n",
      "\n",
      "[5 rows x 54 columns]\n"
     ]
    }
   ],
   "source": [
    "# encoding 방식에 따라서 'UTF-8', 또는 'EUC-KR' 로 설정\n",
    "df_csv = pd.read_csv('data/서울특별시 코로나19 자치구별 확진자 발생동향.csv', encoding='EUC-KR')\n",
    "\n",
    "print(df_csv.head())"
   ]
  },
  {
   "cell_type": "code",
   "execution_count": 6,
   "id": "923f7187",
   "metadata": {},
   "outputs": [
    {
     "name": "stdout",
     "output_type": "stream",
     "text": [
      "Requirement already satisfied: openpyxl in c:\\users\\nbumk\\anaconda3\\envs\\mytf\\lib\\site-packages (3.0.7)\n",
      "Requirement already satisfied: et-xmlfile in c:\\users\\nbumk\\anaconda3\\envs\\mytf\\lib\\site-packages (from openpyxl) (1.1.0)\n"
     ]
    }
   ],
   "source": [
    "#  Pandas 엑셀 라이브러리\n",
    "! pip install openpyxl"
   ]
  },
  {
   "cell_type": "code",
   "execution_count": 7,
   "id": "754ae27f",
   "metadata": {
    "scrolled": true
   },
   "outputs": [
    {
     "name": "stdout",
     "output_type": "stream",
     "text": [
      "         자치구 기준일  종로구 전체  종로구 추가  중구 전체  중구 추가  용산구 전체  용산구 추가  성동구 전체  \\\n",
      "0  2021.07.13.00     901      13    813      5    1611      13    1662   \n",
      "1  2021.07.12.00     888       5    808      2    1598       9    1643   \n",
      "2  2021.07.11.00     883       4    806      3    1589      14    1633   \n",
      "3  2021.07.10.00     879       9    803     10    1575      15    1601   \n",
      "\n",
      "   성동구 추가  광진구 전체  ...  서추구 추가  강남구 전체  강남구 추가  송파구 전체  송파구 추가  강동구 전체  \\\n",
      "0      19    1866  ...      10    3836      46    3332      30    2195   \n",
      "1       9    1853  ...      22    3792      42    3302      36    2182   \n",
      "2      32    1831  ...      26    3750      61    3267      36    2172   \n",
      "3      20    1816  ...      27    3689      58    3231      16    2153   \n",
      "\n",
      "   강동구 추가  기타 전체  기타 추가       수집일  \n",
      "0      13   4711     18  00:11:40  \n",
      "1      10   4690     13  00:11:40  \n",
      "2      19   4677     26  00:11:40  \n",
      "3      14   4651     26  00:11:40  \n",
      "\n",
      "[4 rows x 54 columns]\n"
     ]
    }
   ],
   "source": [
    "# Excel 로 부터 자료입력\n",
    "# header 가 없는 경우는 'header=None' 으로 지정\n",
    "df_excel = pd.read_excel('data/서울특별시 코로나19 자치구별 확진자 발생동향.xlsx', header=0, sheet_name=\"sheet2\")\n",
    "\n",
    "print(df_excel)"
   ]
  },
  {
   "cell_type": "markdown",
   "id": "2868ee2d",
   "metadata": {},
   "source": [
    "## 자료의 형태"
   ]
  },
  {
   "cell_type": "code",
   "execution_count": 8,
   "id": "41b6d895",
   "metadata": {},
   "outputs": [
    {
     "name": "stdout",
     "output_type": "stream",
     "text": [
      "df의 shape = (10, 4)\n",
      "df의 column names = Index(['hdz', 'chestpain', 'cholesterol', 'sysbp'], dtype='object')\n",
      "df의 ndim = 2\n",
      "df의 type =  <class 'pandas.core.frame.DataFrame'>\n",
      "df의 head =     hdz chestpain  cholesterol  sysbp\n",
      "1  yes       yes          208    160\n",
      "2   no       yes          282    140\n",
      "3   no        no          235    188\n",
      "4   no       yes          277    162\n",
      "5  yes        no          280    122\n"
     ]
    }
   ],
   "source": [
    "# dataframe 의 attribute\n",
    "print ('df의 shape =', df.shape)\n",
    "\n",
    "print ('df의 column names =', df.columns)\n",
    "print ('df의 ndim =', df.ndim)\n",
    "\n",
    "\n",
    "# dataframe 의 type\n",
    "print('df의 type = ', type(df))\n",
    "\n",
    "# df 의 head\n",
    "print('df의 head = ', df.head())\n",
    "\n",
    "# print('df의 head = ', df.head(10))\n",
    "# print('df의 head = ', df.tail(10))"
   ]
  },
  {
   "cell_type": "markdown",
   "id": "4bbf4e51",
   "metadata": {},
   "source": [
    "## Dataframe 자료 인덱싱"
   ]
  },
  {
   "cell_type": "code",
   "execution_count": 9,
   "id": "223548c9",
   "metadata": {},
   "outputs": [
    {
     "name": "stdout",
     "output_type": "stream",
     "text": [
      "282\n"
     ]
    },
    {
     "data": {
      "text/html": [
       "<div>\n",
       "<style scoped>\n",
       "    .dataframe tbody tr th:only-of-type {\n",
       "        vertical-align: middle;\n",
       "    }\n",
       "\n",
       "    .dataframe tbody tr th {\n",
       "        vertical-align: top;\n",
       "    }\n",
       "\n",
       "    .dataframe thead th {\n",
       "        text-align: right;\n",
       "    }\n",
       "</style>\n",
       "<table border=\"1\" class=\"dataframe\">\n",
       "  <thead>\n",
       "    <tr style=\"text-align: right;\">\n",
       "      <th></th>\n",
       "      <th>chestpain</th>\n",
       "      <th>cholesterol</th>\n",
       "    </tr>\n",
       "  </thead>\n",
       "  <tbody>\n",
       "    <tr>\n",
       "      <th>1</th>\n",
       "      <td>yes</td>\n",
       "      <td>208</td>\n",
       "    </tr>\n",
       "    <tr>\n",
       "      <th>2</th>\n",
       "      <td>yes</td>\n",
       "      <td>282</td>\n",
       "    </tr>\n",
       "    <tr>\n",
       "      <th>3</th>\n",
       "      <td>no</td>\n",
       "      <td>235</td>\n",
       "    </tr>\n",
       "    <tr>\n",
       "      <th>4</th>\n",
       "      <td>yes</td>\n",
       "      <td>277</td>\n",
       "    </tr>\n",
       "    <tr>\n",
       "      <th>5</th>\n",
       "      <td>no</td>\n",
       "      <td>280</td>\n",
       "    </tr>\n",
       "    <tr>\n",
       "      <th>6</th>\n",
       "      <td>yes</td>\n",
       "      <td>242</td>\n",
       "    </tr>\n",
       "    <tr>\n",
       "      <th>7</th>\n",
       "      <td>no</td>\n",
       "      <td>275</td>\n",
       "    </tr>\n",
       "    <tr>\n",
       "      <th>8</th>\n",
       "      <td>no</td>\n",
       "      <td>214</td>\n",
       "    </tr>\n",
       "    <tr>\n",
       "      <th>9</th>\n",
       "      <td>no</td>\n",
       "      <td>231</td>\n",
       "    </tr>\n",
       "    <tr>\n",
       "      <th>10</th>\n",
       "      <td>yes</td>\n",
       "      <td>206</td>\n",
       "    </tr>\n",
       "  </tbody>\n",
       "</table>\n",
       "</div>"
      ],
      "text/plain": [
       "   chestpain  cholesterol\n",
       "1        yes          208\n",
       "2        yes          282\n",
       "3         no          235\n",
       "4        yes          277\n",
       "5         no          280\n",
       "6        yes          242\n",
       "7         no          275\n",
       "8         no          214\n",
       "9         no          231\n",
       "10       yes          206"
      ]
     },
     "execution_count": 9,
     "metadata": {},
     "output_type": "execute_result"
    }
   ],
   "source": [
    "# 인덱싱 by column name\n",
    "\n",
    "# print(df.columns)\n",
    "# ['hdz', 'chestpain', 'cholesterol', 'sysbp']\n",
    "\n",
    "# column indexing\n",
    "df['chestpain'] # retval = series\n",
    "df[['hdz', 'chestpain']] # retval = dataframe\n",
    "\n",
    "# column indexing loc\n",
    "print(df.loc[2, 'cholesterol'])\n",
    "# print(df.iloc[1, 2])\n",
    "\n",
    "# column slicing loc\n",
    "df.loc[:,'chestpain'] # retval = series\n",
    "df.loc[:, ['hdz', 'chestpain']] # retval = dataframe\n",
    "\n",
    "# column slicing iloc\n",
    "df.iloc[:3, 2] # retval = series\n",
    "df.iloc[:, 1:3] # retval = dataframe\n",
    "\n",
    "# df.loc[1,]"
   ]
  },
  {
   "cell_type": "markdown",
   "id": "d9d06a59",
   "metadata": {},
   "source": [
    "## 자료값 바꾸기"
   ]
  },
  {
   "cell_type": "code",
   "execution_count": 10,
   "id": "9254bc9f",
   "metadata": {},
   "outputs": [],
   "source": [
    "#\n",
    "df.loc[5, \"sysbp\"] = 200\n",
    "# df.iloc[4, 3] = 200\n",
    "\n",
    "df.loc[4:6, \"sysbp\"] = [200, 201, 202]\n"
   ]
  },
  {
   "cell_type": "markdown",
   "id": "33d320bf",
   "metadata": {},
   "source": [
    "## 열추가"
   ]
  },
  {
   "cell_type": "code",
   "execution_count": 11,
   "id": "c0949cec",
   "metadata": {},
   "outputs": [
    {
     "name": "stdout",
     "output_type": "stream",
     "text": [
      "    hdz chestpain  cholesterol  sysbp  sysbp_2\n",
      "1   yes       yes          208    160      320\n",
      "2    no       yes          282    140      280\n",
      "3    no        no          235    188      376\n",
      "4    no       yes          277    200      400\n",
      "5   yes        no          280    201      402\n",
      "6   yes       yes          242    202      404\n",
      "7   yes        no          275    154      308\n",
      "8    no        no          214    177      354\n",
      "9   yes        no          231    165      330\n",
      "10   no       yes          206    123      246\n"
     ]
    }
   ],
   "source": [
    "df[\"sysbp_2\"] = df[\"sysbp\"]*2\n",
    "print(df)"
   ]
  },
  {
   "cell_type": "markdown",
   "id": "3c85bf34",
   "metadata": {},
   "source": [
    "## Filtering"
   ]
  },
  {
   "cell_type": "code",
   "execution_count": 12,
   "id": "9a24967d",
   "metadata": {},
   "outputs": [
    {
     "name": "stdout",
     "output_type": "stream",
     "text": [
      "[True, True, False, False, True, True, True, False, False, True]\n",
      "1      True\n",
      "2      True\n",
      "3     False\n",
      "4      True\n",
      "5     False\n",
      "6      True\n",
      "7     False\n",
      "8     False\n",
      "9     False\n",
      "10     True\n",
      "Name: chestpain, dtype: bool\n",
      "    hdz chestpain  cholesterol  sysbp  sysbp_2\n",
      "1   yes       yes          208    160      320\n",
      "2    no       yes          282    140      280\n",
      "4    no       yes          277    200      400\n",
      "6   yes       yes          242    202      404\n",
      "10   no       yes          206    123      246\n",
      "1     False\n",
      "2      True\n",
      "3      True\n",
      "4      True\n",
      "5      True\n",
      "6      True\n",
      "7      True\n",
      "8      True\n",
      "9      True\n",
      "10    False\n",
      "Name: cholesterol, dtype: bool\n",
      "1     False\n",
      "2      True\n",
      "3      True\n",
      "4      True\n",
      "5      True\n",
      "6      True\n",
      "7      True\n",
      "8      True\n",
      "9      True\n",
      "10    False\n",
      "dtype: bool\n"
     ]
    }
   ],
   "source": [
    "## Boolean list\n",
    "df_bool = [True, True, False, False, True, True, True, False, False, True]\n",
    "\n",
    "print(df_bool)\n",
    "\n",
    "df[df_bool]\n",
    "\n",
    "flt_cp =  (df['chestpain'] == 'yes')\n",
    "print(flt_cp)\n",
    "\n",
    "print(df[flt_cp])\n",
    "# df.loc[flt, \"chestpain\":\"sysbp\"]\n",
    "\n",
    "flt_chol = (df[\"cholesterol\"] > 210)\n",
    "print(flt_chol)\n",
    "\n",
    "## filter with or, and\n",
    "flt_chol_bp = ((df[\"cholesterol\"] > 210) | (df[\"sysbp\"] > 190))\n",
    "print(flt_chol_bp)"
   ]
  },
  {
   "cell_type": "markdown",
   "id": "5f060afa",
   "metadata": {},
   "source": [
    "## NaN value 지우기"
   ]
  },
  {
   "cell_type": "code",
   "execution_count": 13,
   "id": "24a1d36b",
   "metadata": {},
   "outputs": [
    {
     "data": {
      "text/html": [
       "<div>\n",
       "<style scoped>\n",
       "    .dataframe tbody tr th:only-of-type {\n",
       "        vertical-align: middle;\n",
       "    }\n",
       "\n",
       "    .dataframe tbody tr th {\n",
       "        vertical-align: top;\n",
       "    }\n",
       "\n",
       "    .dataframe thead th {\n",
       "        text-align: right;\n",
       "    }\n",
       "</style>\n",
       "<table border=\"1\" class=\"dataframe\">\n",
       "  <thead>\n",
       "    <tr style=\"text-align: right;\">\n",
       "      <th></th>\n",
       "      <th>hdz</th>\n",
       "      <th>chestpain</th>\n",
       "      <th>cholesterol</th>\n",
       "      <th>sysbp</th>\n",
       "      <th>sysbp_2</th>\n",
       "    </tr>\n",
       "  </thead>\n",
       "  <tbody>\n",
       "    <tr>\n",
       "      <th>1</th>\n",
       "      <td>yes</td>\n",
       "      <td>yes</td>\n",
       "      <td>208</td>\n",
       "      <td>160.0</td>\n",
       "      <td>320</td>\n",
       "    </tr>\n",
       "    <tr>\n",
       "      <th>2</th>\n",
       "      <td>no</td>\n",
       "      <td>yes</td>\n",
       "      <td>282</td>\n",
       "      <td>140.0</td>\n",
       "      <td>280</td>\n",
       "    </tr>\n",
       "    <tr>\n",
       "      <th>3</th>\n",
       "      <td>no</td>\n",
       "      <td>no</td>\n",
       "      <td>235</td>\n",
       "      <td>188.0</td>\n",
       "      <td>376</td>\n",
       "    </tr>\n",
       "    <tr>\n",
       "      <th>4</th>\n",
       "      <td>no</td>\n",
       "      <td>yes</td>\n",
       "      <td>277</td>\n",
       "      <td>200.0</td>\n",
       "      <td>400</td>\n",
       "    </tr>\n",
       "    <tr>\n",
       "      <th>5</th>\n",
       "      <td>Missing</td>\n",
       "      <td>no</td>\n",
       "      <td>280</td>\n",
       "      <td>201.0</td>\n",
       "      <td>402</td>\n",
       "    </tr>\n",
       "    <tr>\n",
       "      <th>6</th>\n",
       "      <td>yes</td>\n",
       "      <td>yes</td>\n",
       "      <td>242</td>\n",
       "      <td>Missing</td>\n",
       "      <td>404</td>\n",
       "    </tr>\n",
       "    <tr>\n",
       "      <th>7</th>\n",
       "      <td>yes</td>\n",
       "      <td>no</td>\n",
       "      <td>275</td>\n",
       "      <td>Missing</td>\n",
       "      <td>308</td>\n",
       "    </tr>\n",
       "    <tr>\n",
       "      <th>8</th>\n",
       "      <td>no</td>\n",
       "      <td>no</td>\n",
       "      <td>214</td>\n",
       "      <td>177.0</td>\n",
       "      <td>354</td>\n",
       "    </tr>\n",
       "    <tr>\n",
       "      <th>9</th>\n",
       "      <td>yes</td>\n",
       "      <td>no</td>\n",
       "      <td>231</td>\n",
       "      <td>165.0</td>\n",
       "      <td>330</td>\n",
       "    </tr>\n",
       "    <tr>\n",
       "      <th>10</th>\n",
       "      <td>no</td>\n",
       "      <td>yes</td>\n",
       "      <td>206</td>\n",
       "      <td>123.0</td>\n",
       "      <td>246</td>\n",
       "    </tr>\n",
       "  </tbody>\n",
       "</table>\n",
       "</div>"
      ],
      "text/plain": [
       "        hdz chestpain  cholesterol    sysbp  sysbp_2\n",
       "1       yes       yes          208    160.0      320\n",
       "2        no       yes          282    140.0      280\n",
       "3        no        no          235    188.0      376\n",
       "4        no       yes          277    200.0      400\n",
       "5   Missing        no          280    201.0      402\n",
       "6       yes       yes          242  Missing      404\n",
       "7       yes        no          275  Missing      308\n",
       "8        no        no          214    177.0      354\n",
       "9       yes        no          231    165.0      330\n",
       "10       no       yes          206    123.0      246"
      ]
     },
     "execution_count": 13,
     "metadata": {},
     "output_type": "execute_result"
    }
   ],
   "source": [
    "import numpy as np\n",
    "\n",
    "## NaN 값 넣기\n",
    "df.loc[5, \"hdz\"] = np.nan\n",
    "df.loc[6:7, \"sysbp\"] = None\n",
    "\n",
    "## NaN 값 지우기\n",
    "df.dropna()\n",
    "df.dropna(axis = 1)\n",
    "\n",
    "## NaN 값 바꾸기\n",
    "df.fillna(\"Missing\")"
   ]
  },
  {
   "cell_type": "code",
   "execution_count": 14,
   "id": "eab6952e",
   "metadata": {},
   "outputs": [
    {
     "name": "stdout",
     "output_type": "stream",
     "text": [
      "    hdz chestpain  cholesterol  sysbp  sysbp_2\n",
      "1   yes       yes          208  160.0      320\n",
      "2    no       yes          282  140.0      280\n",
      "3    no        no          235  188.0      376\n",
      "4    no       yes          277  200.0      400\n",
      "5   NaN        no          280  201.0      402\n",
      "6   yes       yes          242    NaN      404\n",
      "7   yes        no          275    NaN      308\n",
      "8    no        no          214  177.0      354\n",
      "9   yes        no          231  165.0      330\n",
      "10   no       yes          206  123.0      246\n"
     ]
    }
   ],
   "source": [
    "print(df)"
   ]
  },
  {
   "cell_type": "markdown",
   "id": "4a8fced1",
   "metadata": {},
   "source": [
    "## 자료정렬"
   ]
  },
  {
   "cell_type": "code",
   "execution_count": 15,
   "id": "7ace532f",
   "metadata": {},
   "outputs": [
    {
     "data": {
      "text/html": [
       "<div>\n",
       "<style scoped>\n",
       "    .dataframe tbody tr th:only-of-type {\n",
       "        vertical-align: middle;\n",
       "    }\n",
       "\n",
       "    .dataframe tbody tr th {\n",
       "        vertical-align: top;\n",
       "    }\n",
       "\n",
       "    .dataframe thead th {\n",
       "        text-align: right;\n",
       "    }\n",
       "</style>\n",
       "<table border=\"1\" class=\"dataframe\">\n",
       "  <thead>\n",
       "    <tr style=\"text-align: right;\">\n",
       "      <th></th>\n",
       "      <th>hdz</th>\n",
       "      <th>chestpain</th>\n",
       "      <th>cholesterol</th>\n",
       "      <th>sysbp</th>\n",
       "      <th>sysbp_2</th>\n",
       "    </tr>\n",
       "  </thead>\n",
       "  <tbody>\n",
       "    <tr>\n",
       "      <th>1</th>\n",
       "      <td>yes</td>\n",
       "      <td>yes</td>\n",
       "      <td>208</td>\n",
       "      <td>160.0</td>\n",
       "      <td>320</td>\n",
       "    </tr>\n",
       "    <tr>\n",
       "      <th>2</th>\n",
       "      <td>no</td>\n",
       "      <td>yes</td>\n",
       "      <td>282</td>\n",
       "      <td>140.0</td>\n",
       "      <td>280</td>\n",
       "    </tr>\n",
       "    <tr>\n",
       "      <th>3</th>\n",
       "      <td>no</td>\n",
       "      <td>no</td>\n",
       "      <td>235</td>\n",
       "      <td>188.0</td>\n",
       "      <td>376</td>\n",
       "    </tr>\n",
       "    <tr>\n",
       "      <th>4</th>\n",
       "      <td>no</td>\n",
       "      <td>yes</td>\n",
       "      <td>277</td>\n",
       "      <td>200.0</td>\n",
       "      <td>400</td>\n",
       "    </tr>\n",
       "    <tr>\n",
       "      <th>5</th>\n",
       "      <td>NaN</td>\n",
       "      <td>no</td>\n",
       "      <td>280</td>\n",
       "      <td>201.0</td>\n",
       "      <td>402</td>\n",
       "    </tr>\n",
       "    <tr>\n",
       "      <th>6</th>\n",
       "      <td>yes</td>\n",
       "      <td>yes</td>\n",
       "      <td>242</td>\n",
       "      <td>NaN</td>\n",
       "      <td>404</td>\n",
       "    </tr>\n",
       "    <tr>\n",
       "      <th>7</th>\n",
       "      <td>yes</td>\n",
       "      <td>no</td>\n",
       "      <td>275</td>\n",
       "      <td>NaN</td>\n",
       "      <td>308</td>\n",
       "    </tr>\n",
       "    <tr>\n",
       "      <th>8</th>\n",
       "      <td>no</td>\n",
       "      <td>no</td>\n",
       "      <td>214</td>\n",
       "      <td>177.0</td>\n",
       "      <td>354</td>\n",
       "    </tr>\n",
       "    <tr>\n",
       "      <th>9</th>\n",
       "      <td>yes</td>\n",
       "      <td>no</td>\n",
       "      <td>231</td>\n",
       "      <td>165.0</td>\n",
       "      <td>330</td>\n",
       "    </tr>\n",
       "    <tr>\n",
       "      <th>10</th>\n",
       "      <td>no</td>\n",
       "      <td>yes</td>\n",
       "      <td>206</td>\n",
       "      <td>123.0</td>\n",
       "      <td>246</td>\n",
       "    </tr>\n",
       "  </tbody>\n",
       "</table>\n",
       "</div>"
      ],
      "text/plain": [
       "    hdz chestpain  cholesterol  sysbp  sysbp_2\n",
       "1   yes       yes          208  160.0      320\n",
       "2    no       yes          282  140.0      280\n",
       "3    no        no          235  188.0      376\n",
       "4    no       yes          277  200.0      400\n",
       "5   NaN        no          280  201.0      402\n",
       "6   yes       yes          242    NaN      404\n",
       "7   yes        no          275    NaN      308\n",
       "8    no        no          214  177.0      354\n",
       "9   yes        no          231  165.0      330\n",
       "10   no       yes          206  123.0      246"
      ]
     },
     "execution_count": 15,
     "metadata": {},
     "output_type": "execute_result"
    }
   ],
   "source": [
    "# sort df by column value\n",
    "\n",
    "df.sort_values(by = \"hdz\")\n",
    "\n",
    "\n",
    "df.sort_values(by = \"cholesterol\")\n",
    "df.sort_values(by = \"cholesterol\", ascending = False)\n",
    "\n",
    "\n",
    "df.sort_values(by = ['hdz', 'cholesterol'])\n",
    "\n",
    "\n",
    "# sort df by index\n",
    "df.sort_index()\n",
    "\n",
    "# df[\"cholesterol\"].nlargest(3)"
   ]
  },
  {
   "cell_type": "markdown",
   "id": "d091842a",
   "metadata": {},
   "source": [
    "## Grouping"
   ]
  },
  {
   "cell_type": "markdown",
   "id": "bd2b06e3",
   "metadata": {},
   "source": [
    "## Pandas dataframe method\n",
    "\n",
    "https://pandas.pydata.org/docs/reference/api/pandas.DataFrame.html\n",
    "\n",
    "## Pandas series method\n",
    "* https://pandas.pydata.org/pandas-docs/stable/reference/api/pandas.Series.mean.html\n",
    "\n",
    "### Numpy method \n",
    "* https://numpy.org/doc/stable/reference/routines.statistics.html\n"
   ]
  },
  {
   "cell_type": "code",
   "execution_count": 16,
   "id": "d1bb6e1a",
   "metadata": {},
   "outputs": [
    {
     "data": {
      "text/html": [
       "<div>\n",
       "<style scoped>\n",
       "    .dataframe tbody tr th:only-of-type {\n",
       "        vertical-align: middle;\n",
       "    }\n",
       "\n",
       "    .dataframe tbody tr th {\n",
       "        vertical-align: top;\n",
       "    }\n",
       "\n",
       "    .dataframe thead th {\n",
       "        text-align: right;\n",
       "    }\n",
       "</style>\n",
       "<table border=\"1\" class=\"dataframe\">\n",
       "  <thead>\n",
       "    <tr style=\"text-align: right;\">\n",
       "      <th></th>\n",
       "      <th>cholesterol</th>\n",
       "      <th>sysbp</th>\n",
       "      <th>sysbp_2</th>\n",
       "    </tr>\n",
       "  </thead>\n",
       "  <tbody>\n",
       "    <tr>\n",
       "      <th>count</th>\n",
       "      <td>10.000000</td>\n",
       "      <td>8.00000</td>\n",
       "      <td>10.000000</td>\n",
       "    </tr>\n",
       "    <tr>\n",
       "      <th>mean</th>\n",
       "      <td>245.000000</td>\n",
       "      <td>169.25000</td>\n",
       "      <td>342.000000</td>\n",
       "    </tr>\n",
       "    <tr>\n",
       "      <th>std</th>\n",
       "      <td>31.044771</td>\n",
       "      <td>27.93743</td>\n",
       "      <td>54.723548</td>\n",
       "    </tr>\n",
       "    <tr>\n",
       "      <th>min</th>\n",
       "      <td>206.000000</td>\n",
       "      <td>123.00000</td>\n",
       "      <td>246.000000</td>\n",
       "    </tr>\n",
       "    <tr>\n",
       "      <th>25%</th>\n",
       "      <td>218.250000</td>\n",
       "      <td>155.00000</td>\n",
       "      <td>311.000000</td>\n",
       "    </tr>\n",
       "    <tr>\n",
       "      <th>50%</th>\n",
       "      <td>238.500000</td>\n",
       "      <td>171.00000</td>\n",
       "      <td>342.000000</td>\n",
       "    </tr>\n",
       "    <tr>\n",
       "      <th>75%</th>\n",
       "      <td>276.500000</td>\n",
       "      <td>191.00000</td>\n",
       "      <td>394.000000</td>\n",
       "    </tr>\n",
       "    <tr>\n",
       "      <th>max</th>\n",
       "      <td>282.000000</td>\n",
       "      <td>201.00000</td>\n",
       "      <td>404.000000</td>\n",
       "    </tr>\n",
       "  </tbody>\n",
       "</table>\n",
       "</div>"
      ],
      "text/plain": [
       "       cholesterol      sysbp     sysbp_2\n",
       "count    10.000000    8.00000   10.000000\n",
       "mean    245.000000  169.25000  342.000000\n",
       "std      31.044771   27.93743   54.723548\n",
       "min     206.000000  123.00000  246.000000\n",
       "25%     218.250000  155.00000  311.000000\n",
       "50%     238.500000  171.00000  342.000000\n",
       "75%     276.500000  191.00000  394.000000\n",
       "max     282.000000  201.00000  404.000000"
      ]
     },
     "execution_count": 16,
     "metadata": {},
     "output_type": "execute_result"
    }
   ],
   "source": [
    "## summary statistics\n",
    "## discrete variable\n",
    "df['chestpain'].value_counts()\n",
    "# df['chestpain'].value_counts(normalize=True)\n",
    "\n",
    "## continuous variable\n",
    "df['cholesterol'].mean()\n",
    "df['cholesterol'].median()\n",
    "df['cholesterol'].var()\n",
    "df['cholesterol'].std()\n",
    "\n",
    "## Summary statistics\n",
    "df.describe()"
   ]
  },
  {
   "cell_type": "code",
   "execution_count": 17,
   "id": "e7b0a1e3",
   "metadata": {
    "scrolled": true
   },
   "outputs": [
    {
     "data": {
      "text/html": [
       "<div>\n",
       "<style scoped>\n",
       "    .dataframe tbody tr th:only-of-type {\n",
       "        vertical-align: middle;\n",
       "    }\n",
       "\n",
       "    .dataframe tbody tr th {\n",
       "        vertical-align: top;\n",
       "    }\n",
       "\n",
       "    .dataframe thead th {\n",
       "        text-align: right;\n",
       "    }\n",
       "</style>\n",
       "<table border=\"1\" class=\"dataframe\">\n",
       "  <thead>\n",
       "    <tr style=\"text-align: right;\">\n",
       "      <th></th>\n",
       "      <th></th>\n",
       "      <th>cholesterol</th>\n",
       "      <th>sysbp</th>\n",
       "      <th>sysbp_2</th>\n",
       "    </tr>\n",
       "    <tr>\n",
       "      <th>hdz</th>\n",
       "      <th>chestpain</th>\n",
       "      <th></th>\n",
       "      <th></th>\n",
       "      <th></th>\n",
       "    </tr>\n",
       "  </thead>\n",
       "  <tbody>\n",
       "    <tr>\n",
       "      <th rowspan=\"2\" valign=\"top\">no</th>\n",
       "      <th>no</th>\n",
       "      <td>224.5</td>\n",
       "      <td>182.500000</td>\n",
       "      <td>365.000000</td>\n",
       "    </tr>\n",
       "    <tr>\n",
       "      <th>yes</th>\n",
       "      <td>255.0</td>\n",
       "      <td>154.333333</td>\n",
       "      <td>308.666667</td>\n",
       "    </tr>\n",
       "    <tr>\n",
       "      <th rowspan=\"2\" valign=\"top\">yes</th>\n",
       "      <th>no</th>\n",
       "      <td>253.0</td>\n",
       "      <td>165.000000</td>\n",
       "      <td>319.000000</td>\n",
       "    </tr>\n",
       "    <tr>\n",
       "      <th>yes</th>\n",
       "      <td>225.0</td>\n",
       "      <td>160.000000</td>\n",
       "      <td>362.000000</td>\n",
       "    </tr>\n",
       "  </tbody>\n",
       "</table>\n",
       "</div>"
      ],
      "text/plain": [
       "               cholesterol       sysbp     sysbp_2\n",
       "hdz chestpain                                     \n",
       "no  no               224.5  182.500000  365.000000\n",
       "    yes              255.0  154.333333  308.666667\n",
       "yes no               253.0  165.000000  319.000000\n",
       "    yes              225.0  160.000000  362.000000"
      ]
     },
     "execution_count": 17,
     "metadata": {},
     "output_type": "execute_result"
    }
   ],
   "source": [
    "df_grp = df.groupby(\"hdz\")\n",
    "\n",
    "df_grp.describe()\n",
    "\n",
    "# df.groupby(\"hdz\").describe()\n",
    "\n",
    "\n",
    "df.groupby([\"hdz\", \"chestpain\"]).mean()\n",
    "# df.groupby([\"hdz\", \"chestpain\"]).describe()"
   ]
  },
  {
   "cell_type": "markdown",
   "id": "c4f556d2",
   "metadata": {},
   "source": [
    "## Pivot table 만들기"
   ]
  },
  {
   "cell_type": "code",
   "execution_count": 18,
   "id": "c90fb0a9",
   "metadata": {},
   "outputs": [
    {
     "data": {
      "text/html": [
       "<div>\n",
       "<style scoped>\n",
       "    .dataframe tbody tr th:only-of-type {\n",
       "        vertical-align: middle;\n",
       "    }\n",
       "\n",
       "    .dataframe tbody tr th {\n",
       "        vertical-align: top;\n",
       "    }\n",
       "\n",
       "    .dataframe thead th {\n",
       "        text-align: right;\n",
       "    }\n",
       "</style>\n",
       "<table border=\"1\" class=\"dataframe\">\n",
       "  <thead>\n",
       "    <tr style=\"text-align: right;\">\n",
       "      <th>chestpain</th>\n",
       "      <th>no</th>\n",
       "      <th>yes</th>\n",
       "    </tr>\n",
       "    <tr>\n",
       "      <th>hdz</th>\n",
       "      <th></th>\n",
       "      <th></th>\n",
       "    </tr>\n",
       "  </thead>\n",
       "  <tbody>\n",
       "    <tr>\n",
       "      <th>no</th>\n",
       "      <td>224.5</td>\n",
       "      <td>255.0</td>\n",
       "    </tr>\n",
       "    <tr>\n",
       "      <th>yes</th>\n",
       "      <td>253.0</td>\n",
       "      <td>225.0</td>\n",
       "    </tr>\n",
       "  </tbody>\n",
       "</table>\n",
       "</div>"
      ],
      "text/plain": [
       "chestpain     no    yes\n",
       "hdz                    \n",
       "no         224.5  255.0\n",
       "yes        253.0  225.0"
      ]
     },
     "execution_count": 18,
     "metadata": {},
     "output_type": "execute_result"
    }
   ],
   "source": [
    "df.groupby([\"hdz\", \"chestpain\"])['cholesterol'].mean().unstack()\n",
    "\n",
    "# df.groupby([\"hdz\", \"chestpain\"])['cholesterol'].mean()"
   ]
  },
  {
   "cell_type": "code",
   "execution_count": 19,
   "id": "f797126a",
   "metadata": {},
   "outputs": [
    {
     "data": {
      "text/html": [
       "<div>\n",
       "<style scoped>\n",
       "    .dataframe tbody tr th:only-of-type {\n",
       "        vertical-align: middle;\n",
       "    }\n",
       "\n",
       "    .dataframe tbody tr th {\n",
       "        vertical-align: top;\n",
       "    }\n",
       "\n",
       "    .dataframe thead tr th {\n",
       "        text-align: left;\n",
       "    }\n",
       "\n",
       "    .dataframe thead tr:last-of-type th {\n",
       "        text-align: right;\n",
       "    }\n",
       "</style>\n",
       "<table border=\"1\" class=\"dataframe\">\n",
       "  <thead>\n",
       "    <tr>\n",
       "      <th></th>\n",
       "      <th colspan=\"2\" halign=\"left\">mean</th>\n",
       "      <th colspan=\"2\" halign=\"left\">median</th>\n",
       "    </tr>\n",
       "    <tr>\n",
       "      <th>chestpain</th>\n",
       "      <th>no</th>\n",
       "      <th>yes</th>\n",
       "      <th>no</th>\n",
       "      <th>yes</th>\n",
       "    </tr>\n",
       "    <tr>\n",
       "      <th>hdz</th>\n",
       "      <th></th>\n",
       "      <th></th>\n",
       "      <th></th>\n",
       "      <th></th>\n",
       "    </tr>\n",
       "  </thead>\n",
       "  <tbody>\n",
       "    <tr>\n",
       "      <th>no</th>\n",
       "      <td>224.5</td>\n",
       "      <td>255.0</td>\n",
       "      <td>224.5</td>\n",
       "      <td>277.0</td>\n",
       "    </tr>\n",
       "    <tr>\n",
       "      <th>yes</th>\n",
       "      <td>253.0</td>\n",
       "      <td>225.0</td>\n",
       "      <td>253.0</td>\n",
       "      <td>225.0</td>\n",
       "    </tr>\n",
       "  </tbody>\n",
       "</table>\n",
       "</div>"
      ],
      "text/plain": [
       "            mean        median       \n",
       "chestpain     no    yes     no    yes\n",
       "hdz                                  \n",
       "no         224.5  255.0  224.5  277.0\n",
       "yes        253.0  225.0  253.0  225.0"
      ]
     },
     "execution_count": 19,
     "metadata": {},
     "output_type": "execute_result"
    }
   ],
   "source": [
    "df.groupby([\"hdz\", \"chestpain\"])['cholesterol'].aggregate([\"mean\", \"median\"]).unstack()\n",
    "\n",
    "\n"
   ]
  },
  {
   "cell_type": "code",
   "execution_count": 20,
   "id": "f138d27e",
   "metadata": {},
   "outputs": [
    {
     "data": {
      "text/html": [
       "<div>\n",
       "<style scoped>\n",
       "    .dataframe tbody tr th:only-of-type {\n",
       "        vertical-align: middle;\n",
       "    }\n",
       "\n",
       "    .dataframe tbody tr th {\n",
       "        vertical-align: top;\n",
       "    }\n",
       "\n",
       "    .dataframe thead th {\n",
       "        text-align: right;\n",
       "    }\n",
       "</style>\n",
       "<table border=\"1\" class=\"dataframe\">\n",
       "  <thead>\n",
       "    <tr style=\"text-align: right;\">\n",
       "      <th>hdz</th>\n",
       "      <th>no</th>\n",
       "      <th>yes</th>\n",
       "    </tr>\n",
       "    <tr>\n",
       "      <th>chestpain</th>\n",
       "      <th></th>\n",
       "      <th></th>\n",
       "    </tr>\n",
       "  </thead>\n",
       "  <tbody>\n",
       "    <tr>\n",
       "      <th>no</th>\n",
       "      <td>224.5</td>\n",
       "      <td>253.0</td>\n",
       "    </tr>\n",
       "    <tr>\n",
       "      <th>yes</th>\n",
       "      <td>255.0</td>\n",
       "      <td>225.0</td>\n",
       "    </tr>\n",
       "  </tbody>\n",
       "</table>\n",
       "</div>"
      ],
      "text/plain": [
       "hdz           no    yes\n",
       "chestpain              \n",
       "no         224.5  253.0\n",
       "yes        255.0  225.0"
      ]
     },
     "execution_count": 20,
     "metadata": {},
     "output_type": "execute_result"
    }
   ],
   "source": [
    "df.pivot_table('cholesterol', aggfunc = 'mean', \n",
    "               index = 'chestpain', columns = 'hdz')\n",
    "\n",
    "# aggfunc: list of functions, dict, default numpy.mean\n",
    "# df.pivot_table('cholesterol', aggfunc = 'median', \n",
    "#                index = 'chestpain', columns = 'hdz')"
   ]
  },
  {
   "cell_type": "markdown",
   "id": "39da9286",
   "metadata": {},
   "source": [
    "# Matplotlib 를 이용한 자료의 시각화"
   ]
  },
  {
   "cell_type": "markdown",
   "id": "0eea5e70",
   "metadata": {},
   "source": [
    "## Matplotlib Tutorial - 파이썬으로 데이터 시각화하기\n",
    "* https://wikidocs.net/book/5011"
   ]
  },
  {
   "cell_type": "code",
   "execution_count": 21,
   "id": "cbff1af8",
   "metadata": {},
   "outputs": [],
   "source": [
    "# matplotlib.pyplot module 불러오기\n",
    "import matplotlib.pyplot as plt"
   ]
  },
  {
   "cell_type": "markdown",
   "id": "0ce2ba92",
   "metadata": {},
   "source": [
    "## 기본그래프 그리기"
   ]
  },
  {
   "cell_type": "code",
   "execution_count": 22,
   "id": "a45655fe",
   "metadata": {},
   "outputs": [
    {
     "data": {
      "image/png": "[encoded data removed]",
      "text/plain": [
       "<Figure size 432x288 with 1 Axes>"
      ]
     },
     "metadata": {
      "needs_background": "light"
     },
     "output_type": "display_data"
    }
   ],
   "source": [
    "# matplotlib.pyplot.plot(*args, scalex=True, scaley=True, data=None, **kwargs)\n",
    "# >>> plot(x, y)        # plot x and y using default line style and color\n",
    "# >>> plot(x, y, 'bo')  # plot x and y using blue circle markers\n",
    "# >>> plot(y)           # plot y using x as index array 0..N-1\n",
    "# >>> plot(y, 'r+')     # ditto, but with red plusses\n",
    "# >>> plot(x, y, 'go--', linewidth=2, markersize=12)\n",
    "# >>> plot(x, y, color='green', marker='o', linestyle='dashed',\n",
    "# ...      linewidth=2, markersize=12)\n",
    "\n",
    "plt.plot([1, 2, 3, 4])\n",
    "# plt.plot([1, 2, 3, 4], [1, 4, 9, 16])\n",
    "\n",
    "plt.xlabel('x-label')\n",
    "plt.ylabel('y-label')\n",
    "\n",
    "plt.show()"
   ]
  },
  {
   "cell_type": "markdown",
   "id": "f3c0c79c",
   "metadata": {},
   "source": [
    "## axis 범위 지정"
   ]
  },
  {
   "cell_type": "code",
   "execution_count": 23,
   "id": "ece0c5ab",
   "metadata": {},
   "outputs": [
    {
     "data": {
      "image/png": "[encoded data removed]",
      "text/plain": [
       "<Figure size 432x288 with 1 Axes>"
      ]
     },
     "metadata": {
      "needs_background": "light"
     },
     "output_type": "display_data"
    }
   ],
   "source": [
    "# import numpy as np\n",
    "# axis() = [xmin, xmax, ymin, ymax]\n",
    "\n",
    "# color-marker-linestyle\n",
    "plt.plot([1, 2, 3, 4], [1, 4, 9, 16], 'ro')\n",
    "\n",
    "# list 형태로 전달\n",
    "plt.axis([0, 6, 0, 20])\n",
    "plt.show()\n",
    "\n"
   ]
  },
  {
   "cell_type": "markdown",
   "id": "ce4e1c31",
   "metadata": {},
   "source": [
    "## 색상지정하기"
   ]
  },
  {
   "cell_type": "markdown",
   "id": "802330d7",
   "metadata": {},
   "source": [
    "```\n",
    "**Colors**\n",
    "\n",
    "The supported color abbreviations are the single letter codes\n",
    "\n",
    "=============    ===============================\n",
    "character        color\n",
    "=============    ===============================\n",
    "``'b'``          blue\n",
    "``'g'``          green\n",
    "``'r'``          red\n",
    "``'c'``          cyan\n",
    "``'m'``          magenta\n",
    "``'y'``          yellow\n",
    "``'k'``          black\n",
    "``'w'``          white\n",
    "=============    ===============================\n",
    "```"
   ]
  },
  {
   "cell_type": "code",
   "execution_count": 24,
   "id": "8a187455",
   "metadata": {},
   "outputs": [
    {
     "data": {
      "image/png": "[encoded data removed]",
      "text/plain": [
       "<Figure size 432x288 with 1 Axes>"
      ]
     },
     "metadata": {
      "needs_background": "light"
     },
     "output_type": "display_data"
    }
   ],
   "source": [
    "# color-marker-linestyle\n",
    "t = np.array([1, 2, 3, 4])\n",
    "plt.plot(t, t, 'ro-')\n",
    "plt.plot(t, t**2, 'go-')\n",
    "plt.plot(t, t**3, 'bo-')\n",
    "\n",
    "\n",
    "# list 형태로 전달\n",
    "# plt.axis([0, 6, 0, 20])\n",
    "plt.show()\n"
   ]
  },
  {
   "cell_type": "markdown",
   "id": "6b8b3505",
   "metadata": {},
   "source": [
    "## Marker 지정하기"
   ]
  },
  {
   "cell_type": "markdown",
   "id": "8a44f3ab",
   "metadata": {},
   "source": [
    "```\n",
    "** Markers **\n",
    "\n",
    "=============   ===============================\n",
    "character       description\n",
    "=============   ===============================\n",
    "``'.'``         point marker\n",
    "``','``         pixel marker\n",
    "``'o'``         circle marker\n",
    "``'v'``         triangle_down marker\n",
    "``'^'``         triangle_up marker\n",
    "``'<'``         triangle_left marker\n",
    "``'>'``         triangle_right marker\n",
    "``'1'``         tri_down marker\n",
    "``'2'``         tri_up marker\n",
    "``'3'``         tri_left marker\n",
    "``'4'``         tri_right marker\n",
    "``'8'``         octagon marker\n",
    "``'s'``         square marker\n",
    "``'p'``         pentagon marker\n",
    "``'P'``         plus (filled) marker\n",
    "``'*'``         star marker\n",
    "``'h'``         hexagon1 marker\n",
    "``'H'``         hexagon2 marker\n",
    "``'+'``         plus marker\n",
    "``'x'``         x marker\n",
    "``'X'``         x (filled) marker\n",
    "``'D'``         diamond marker\n",
    "``'d'``         thin_diamond marker\n",
    "``'|'``         vline marker\n",
    "``'_'``         hline marker\n",
    "\n",
    "```"
   ]
  },
  {
   "cell_type": "code",
   "execution_count": 25,
   "id": "b1614a67",
   "metadata": {},
   "outputs": [
    {
     "data": {
      "image/png": "[encoded data removed]",
      "text/plain": [
       "<Figure size 432x288 with 1 Axes>"
      ]
     },
     "metadata": {
      "needs_background": "light"
     },
     "output_type": "display_data"
    }
   ],
   "source": [
    "# color-marker-linestyle\n",
    "t = np.array([1, 2, 3, 4])\n",
    "\n",
    "plt.plot(t, t, 'ro-')\n",
    "plt.plot(t, t**2, 'g.-')\n",
    "plt.plot(t, t**3, 'b,-')\n",
    "\n",
    "# list 형태로 전달\n",
    "# plt.axis([0, 6, 0, 20])\n",
    "plt.show()"
   ]
  },
  {
   "cell_type": "markdown",
   "id": "592d6614",
   "metadata": {},
   "source": [
    "## 라인스타일 지정하기"
   ]
  },
  {
   "cell_type": "markdown",
   "id": "5ac2581b",
   "metadata": {},
   "source": [
    "```\n",
    "**Line Styles**\n",
    "\n",
    "=============    ===============================\n",
    "character        description\n",
    "=============    ===============================\n",
    "``'-'``          solid line style\n",
    "``'--'``         dashed line style\n",
    "``'-.'``         dash-dot line style\n",
    "``':'``          dotted line style\n",
    "=============    ===============================\n",
    "```"
   ]
  },
  {
   "cell_type": "code",
   "execution_count": 26,
   "id": "ef5fd981",
   "metadata": {},
   "outputs": [
    {
     "data": {
      "image/png": "[encoded data removed]",
      "text/plain": [
       "<Figure size 432x288 with 1 Axes>"
      ]
     },
     "metadata": {
      "needs_background": "light"
     },
     "output_type": "display_data"
    }
   ],
   "source": [
    "# color-marker-linestyle\n",
    "t = np.array([1, 2, 3, 4])\n",
    "\n",
    "plt.plot(t, t, 'ro-')\n",
    "plt.plot(t, t**2, 'go--')\n",
    "plt.plot(t, t**3, 'bo-.')\n",
    "plt.plot(t, t**4, 'co:')\n",
    "\n",
    "# list 형태로 전달\n",
    "# plt.axis([0, 6, 0, 20])\n",
    "plt.show()"
   ]
  },
  {
   "cell_type": "markdown",
   "id": "3446e504",
   "metadata": {},
   "source": [
    "## 그래프 영역 채우기"
   ]
  },
  {
   "cell_type": "code",
   "execution_count": 27,
   "id": "efdd8d6b",
   "metadata": {},
   "outputs": [
    {
     "data": {
      "image/png": "[encoded data removed]",
      "text/plain": [
       "<Figure size 432x288 with 1 Axes>"
      ]
     },
     "metadata": {
      "needs_background": "light"
     },
     "output_type": "display_data"
    }
   ],
   "source": [
    "import matplotlib.pyplot as plt\n",
    "\n",
    "x = np.array([1, 2, 3, 4])\n",
    "y = np.array([1, 4, 9, 16])\n",
    "\n",
    "plt.plot(x, y)\n",
    "plt.xlabel('X-Label')\n",
    "plt.ylabel('Y-Label')\n",
    "\n",
    "# plt.fill_between(xmin, xmax, ymin, ymax) \n",
    "plt.fill_between(x[1:3], y[1:3], color='g', alpha=0.5)                   \n",
    "\n",
    "plt.show()"
   ]
  },
  {
   "cell_type": "markdown",
   "id": "f7511766",
   "metadata": {},
   "source": [
    "## 여러개의 곡선 한 번에 그리기"
   ]
  },
  {
   "cell_type": "code",
   "execution_count": 28,
   "id": "24941c64",
   "metadata": {},
   "outputs": [
    {
     "data": {
      "image/png": "[encoded data removed]",
      "text/plain": [
       "<Figure size 432x288 with 1 Axes>"
      ]
     },
     "metadata": {
      "needs_background": "light"
     },
     "output_type": "display_data"
    }
   ],
   "source": [
    "t = np.array([1, 2, 3, 4])\n",
    "\n",
    "plt.plot(t, t, 'r--', t, t**2, 'bs--', t, t**3, 'g^--')\n",
    "plt.show()"
   ]
  },
  {
   "cell_type": "markdown",
   "id": "dcfae0d0",
   "metadata": {},
   "source": [
    "## 그리드 설정하기"
   ]
  },
  {
   "cell_type": "code",
   "execution_count": 29,
   "id": "cb57b0c6",
   "metadata": {},
   "outputs": [
    {
     "data": {
      "image/png": "[encoded data removed]",
      "text/plain": [
       "<Figure size 432x288 with 1 Axes>"
      ]
     },
     "metadata": {
      "needs_background": "light"
     },
     "output_type": "display_data"
    }
   ],
   "source": [
    "import matplotlib.pyplot as plt\n",
    "\n",
    "x = np.array([1, 2, 3, 4])\n",
    "y = np.array([1, 4, 9, 16])\n",
    "\n",
    "plt.plot(x, y)\n",
    "plt.xlabel('X-Label')\n",
    "plt.ylabel('Y-Label')\n",
    "\n",
    "# grid on\n",
    "plt.grid(True, color='r', linestyle='--', linewidth=0.5)\n",
    "            \n",
    "\n",
    "plt.show()\n"
   ]
  },
  {
   "cell_type": "markdown",
   "id": "6b625e5e",
   "metadata": {},
   "source": [
    "## 눈금 설정하기"
   ]
  },
  {
   "cell_type": "code",
   "execution_count": 30,
   "id": "ffc5f7a9",
   "metadata": {},
   "outputs": [
    {
     "data": {
      "image/png": "[encoded data removed]",
      "text/plain": [
       "<Figure size 432x288 with 1 Axes>"
      ]
     },
     "metadata": {
      "needs_background": "light"
     },
     "output_type": "display_data"
    }
   ],
   "source": [
    "\n",
    "x = np.array([1, 2, 3, 4])\n",
    "y = np.array([1, 4, 6, 8])\n",
    "\n",
    "plt.plot(x, y)\n",
    "plt.xlabel('X-Label')\n",
    "plt.ylabel('Y-Label')\n",
    "plt.xticks([0, 1, 2, 3, 4], labels = ['2001', '2002', '2003','2004', '2005'])\n",
    "plt.yticks(np.arange(0, 8, 2))\n",
    "\n",
    "## 눈금파라메터 설정하기\n",
    "# plt.tick_params(axis='x', direction='in', length=3, pad=6, labelsize=14, labelcolor='green', top=True)\n",
    "# plt.tick_params(axis='y', direction='inout', length=10, pad=15, labelsize=12, width=2, color='r')\n",
    "\n",
    "plt.show()\n"
   ]
  },
  {
   "cell_type": "markdown",
   "id": "5c370756",
   "metadata": {},
   "source": [
    "## 타이틀 설정하기"
   ]
  },
  {
   "cell_type": "code",
   "execution_count": 31,
   "id": "48062022",
   "metadata": {},
   "outputs": [],
   "source": [
    "# plt.title('Sample graph', fontdict=title_font, loc='left', pad=20)\n",
    "# ‘fontweight' = 'normal’, ‘bold’, ‘heavy’, ‘light’, ‘ultrabold’, ‘ultralight’"
   ]
  },
  {
   "cell_type": "code",
   "execution_count": 32,
   "id": "a77f0adf",
   "metadata": {},
   "outputs": [
    {
     "data": {
      "image/png": "[encoded data removed]",
      "text/plain": [
       "<Figure size 432x288 with 1 Axes>"
      ]
     },
     "metadata": {
      "needs_background": "light"
     },
     "output_type": "display_data"
    }
   ],
   "source": [
    "import matplotlib.pyplot as plt\n",
    "\n",
    "x = np.array([1, 2, 3, 4])\n",
    "y = np.array([1, 4, 9, 16])\n",
    "\n",
    "plt.plot(x, y)\n",
    "plt.xlabel('X-Label')\n",
    "plt.ylabel('Y-Label')\n",
    "\n",
    "# fontweight' = 'normal’, ‘bold’, ‘heavy’, ‘light’, ‘ultrabold’, ‘ultralight’\n",
    "title_font = {\n",
    "    'fontsize': 16,\n",
    "    'fontweight': 'bold'\n",
    "}\n",
    "\n",
    "plt.title('Tile', fontdict=title_font, loc='center', pad=20)\n",
    "              \n",
    "plt.show()\n"
   ]
  },
  {
   "cell_type": "markdown",
   "id": "af2fbb0b",
   "metadata": {},
   "source": [
    "## 막대그래프 (Bar plot)그리기"
   ]
  },
  {
   "cell_type": "code",
   "execution_count": 33,
   "id": "bb32e88d",
   "metadata": {},
   "outputs": [
    {
     "name": "stdout",
     "output_type": "stream",
     "text": [
      "[0 1 2]\n"
     ]
    },
    {
     "data": {
      "image/png": "[encoded data removed]",
      "text/plain": [
       "<Figure size 432x288 with 1 Axes>"
      ]
     },
     "metadata": {
      "needs_background": "light"
     },
     "output_type": "display_data"
    }
   ],
   "source": [
    "import matplotlib.pyplot as plt\n",
    "import numpy as np\n",
    "\n",
    "x = np.arange(3)\n",
    "print(x)\n",
    "years = ['2017', '2018', '2019']\n",
    "values = [100, 400, 900]\n",
    "\n",
    "plt.bar(x, values)\n",
    "plt.xticks(x, years)\n",
    "plt.show()"
   ]
  },
  {
   "cell_type": "markdown",
   "id": "4f08af36",
   "metadata": {},
   "source": [
    "## 산점도 (Scatter plot) 그리기"
   ]
  },
  {
   "cell_type": "code",
   "execution_count": 34,
   "id": "d9592430",
   "metadata": {},
   "outputs": [
    {
     "data": {
      "image/png": "[encoded data removed]",
      "text/plain": [
       "<Figure size 432x288 with 1 Axes>"
      ]
     },
     "metadata": {
      "needs_background": "light"
     },
     "output_type": "display_data"
    }
   ],
   "source": [
    "x = np.array([1, 2, 3, 4])\n",
    "y = np.array([1, 4, 9, 16])\n",
    "\n",
    "plt.scatter(x, y, s = 100, c=\"r\", alpha=0.5)\n",
    "plt.show()"
   ]
  },
  {
   "cell_type": "markdown",
   "id": "9a6b476b",
   "metadata": {},
   "source": [
    "## 히스토그램 (Histogram) 그리기"
   ]
  },
  {
   "cell_type": "code",
   "execution_count": 35,
   "id": "434015da",
   "metadata": {},
   "outputs": [
    {
     "data": {
      "image/png": "[encoded data removed]",
      "text/plain": [
       "<Figure size 432x288 with 1 Axes>"
      ]
     },
     "metadata": {
      "needs_background": "light"
     },
     "output_type": "display_data"
    }
   ],
   "source": [
    "import matplotlib.pyplot as plt\n",
    "import numpy as np\n",
    "\n",
    "# np.random.randn: Return a sample (or samples) from the \"standard normal\" distribution.\n",
    "a = 2.0 * np.random.randn(10000) + 1.0\n",
    "b = np.random.randn(10000)\n",
    "c = 20.0 * np.random.rand(5000) - 10.0\n",
    "\n",
    "plt.hist(a, bins=100, density=True, alpha=0.7, histtype='step')\n",
    "plt.hist(b, bins=50, density=True, alpha=0.5, histtype='stepfilled')\n",
    "plt.hist(c, bins=100, density=True, alpha=0.9, histtype='step')\n",
    "plt.show()"
   ]
  },
  {
   "cell_type": "markdown",
   "id": "f95584cb",
   "metadata": {},
   "source": [
    "## Error bar 그리기"
   ]
  },
  {
   "cell_type": "code",
   "execution_count": 36,
   "id": "2d34fded",
   "metadata": {},
   "outputs": [
    {
     "data": {
      "image/png": "[encoded data removed]",
      "text/plain": [
       "<Figure size 432x288 with 1 Axes>"
      ]
     },
     "metadata": {
      "needs_background": "light"
     },
     "output_type": "display_data"
    }
   ],
   "source": [
    "import matplotlib.pyplot as plt\n",
    "\n",
    "x = [1, 2, 3, 4]\n",
    "y = [1, 4, 9, 16]\n",
    "yerr = [2.3, 3.1, 1.7, 2.5]\n",
    "\n",
    "plt.errorbar(x, y, yerr=yerr)\n",
    "plt.show()"
   ]
  },
  {
   "cell_type": "markdown",
   "id": "994bf351",
   "metadata": {},
   "source": [
    "# 의료 공공데이터를 이용한 분석 실습"
   ]
  },
  {
   "cell_type": "markdown",
   "id": "b50fab52",
   "metadata": {},
   "source": [
    "## 요약통계량"
   ]
  },
  {
   "cell_type": "code",
   "execution_count": 37,
   "id": "ffbb5a7a",
   "metadata": {},
   "outputs": [],
   "source": [
    "import numpy as np\n",
    "import pandas as pd\n",
    "import matplotlib as plt\n"
   ]
  },
  {
   "cell_type": "code",
   "execution_count": 38,
   "id": "8489f3c3",
   "metadata": {},
   "outputs": [
    {
     "data": {
      "text/html": [
       "<div>\n",
       "<style scoped>\n",
       "    .dataframe tbody tr th:only-of-type {\n",
       "        vertical-align: middle;\n",
       "    }\n",
       "\n",
       "    .dataframe tbody tr th {\n",
       "        vertical-align: top;\n",
       "    }\n",
       "\n",
       "    .dataframe thead th {\n",
       "        text-align: right;\n",
       "    }\n",
       "</style>\n",
       "<table border=\"1\" class=\"dataframe\">\n",
       "  <thead>\n",
       "    <tr style=\"text-align: right;\">\n",
       "      <th></th>\n",
       "      <th>자치구 기준일</th>\n",
       "      <th>종로구 전체</th>\n",
       "      <th>종로구 추가</th>\n",
       "      <th>중구 전체</th>\n",
       "      <th>중구 추가</th>\n",
       "      <th>용산구 전체</th>\n",
       "      <th>용산구 추가</th>\n",
       "      <th>성동구 전체</th>\n",
       "      <th>성동구 추가</th>\n",
       "      <th>광진구 전체</th>\n",
       "      <th>...</th>\n",
       "      <th>서추구 추가</th>\n",
       "      <th>강남구 전체</th>\n",
       "      <th>강남구 추가</th>\n",
       "      <th>송파구 전체</th>\n",
       "      <th>송파구 추가</th>\n",
       "      <th>강동구 전체</th>\n",
       "      <th>강동구 추가</th>\n",
       "      <th>기타 전체</th>\n",
       "      <th>기타 추가</th>\n",
       "      <th>수집일</th>\n",
       "    </tr>\n",
       "  </thead>\n",
       "  <tbody>\n",
       "    <tr>\n",
       "      <th>0</th>\n",
       "      <td>2021.07.13.00</td>\n",
       "      <td>901</td>\n",
       "      <td>13</td>\n",
       "      <td>813</td>\n",
       "      <td>5</td>\n",
       "      <td>1611</td>\n",
       "      <td>13</td>\n",
       "      <td>1662</td>\n",
       "      <td>19</td>\n",
       "      <td>1866</td>\n",
       "      <td>...</td>\n",
       "      <td>10</td>\n",
       "      <td>3836</td>\n",
       "      <td>46</td>\n",
       "      <td>3332</td>\n",
       "      <td>30</td>\n",
       "      <td>2195</td>\n",
       "      <td>13</td>\n",
       "      <td>4711</td>\n",
       "      <td>18</td>\n",
       "      <td>11:40.0</td>\n",
       "    </tr>\n",
       "    <tr>\n",
       "      <th>1</th>\n",
       "      <td>2021.07.12.00</td>\n",
       "      <td>888</td>\n",
       "      <td>5</td>\n",
       "      <td>808</td>\n",
       "      <td>2</td>\n",
       "      <td>1598</td>\n",
       "      <td>9</td>\n",
       "      <td>1643</td>\n",
       "      <td>9</td>\n",
       "      <td>1853</td>\n",
       "      <td>...</td>\n",
       "      <td>22</td>\n",
       "      <td>3792</td>\n",
       "      <td>42</td>\n",
       "      <td>3302</td>\n",
       "      <td>36</td>\n",
       "      <td>2182</td>\n",
       "      <td>10</td>\n",
       "      <td>4690</td>\n",
       "      <td>13</td>\n",
       "      <td>11:40.0</td>\n",
       "    </tr>\n",
       "    <tr>\n",
       "      <th>2</th>\n",
       "      <td>2021.07.11.00</td>\n",
       "      <td>883</td>\n",
       "      <td>4</td>\n",
       "      <td>806</td>\n",
       "      <td>3</td>\n",
       "      <td>1589</td>\n",
       "      <td>14</td>\n",
       "      <td>1633</td>\n",
       "      <td>32</td>\n",
       "      <td>1831</td>\n",
       "      <td>...</td>\n",
       "      <td>26</td>\n",
       "      <td>3750</td>\n",
       "      <td>61</td>\n",
       "      <td>3267</td>\n",
       "      <td>36</td>\n",
       "      <td>2172</td>\n",
       "      <td>19</td>\n",
       "      <td>4677</td>\n",
       "      <td>26</td>\n",
       "      <td>11:40.0</td>\n",
       "    </tr>\n",
       "    <tr>\n",
       "      <th>3</th>\n",
       "      <td>2021.07.10.00</td>\n",
       "      <td>879</td>\n",
       "      <td>9</td>\n",
       "      <td>803</td>\n",
       "      <td>10</td>\n",
       "      <td>1575</td>\n",
       "      <td>15</td>\n",
       "      <td>1601</td>\n",
       "      <td>20</td>\n",
       "      <td>1816</td>\n",
       "      <td>...</td>\n",
       "      <td>27</td>\n",
       "      <td>3689</td>\n",
       "      <td>58</td>\n",
       "      <td>3231</td>\n",
       "      <td>16</td>\n",
       "      <td>2153</td>\n",
       "      <td>14</td>\n",
       "      <td>4651</td>\n",
       "      <td>26</td>\n",
       "      <td>11:40.0</td>\n",
       "    </tr>\n",
       "    <tr>\n",
       "      <th>4</th>\n",
       "      <td>2021.07.09.00</td>\n",
       "      <td>870</td>\n",
       "      <td>3</td>\n",
       "      <td>793</td>\n",
       "      <td>6</td>\n",
       "      <td>1560</td>\n",
       "      <td>17</td>\n",
       "      <td>1580</td>\n",
       "      <td>22</td>\n",
       "      <td>1799</td>\n",
       "      <td>...</td>\n",
       "      <td>29</td>\n",
       "      <td>3631</td>\n",
       "      <td>44</td>\n",
       "      <td>3215</td>\n",
       "      <td>26</td>\n",
       "      <td>2139</td>\n",
       "      <td>25</td>\n",
       "      <td>4625</td>\n",
       "      <td>22</td>\n",
       "      <td>11:40.0</td>\n",
       "    </tr>\n",
       "    <tr>\n",
       "      <th>5</th>\n",
       "      <td>2021.07.08.00</td>\n",
       "      <td>869</td>\n",
       "      <td>6</td>\n",
       "      <td>788</td>\n",
       "      <td>10</td>\n",
       "      <td>1543</td>\n",
       "      <td>18</td>\n",
       "      <td>1559</td>\n",
       "      <td>36</td>\n",
       "      <td>1775</td>\n",
       "      <td>...</td>\n",
       "      <td>27</td>\n",
       "      <td>3587</td>\n",
       "      <td>57</td>\n",
       "      <td>3188</td>\n",
       "      <td>27</td>\n",
       "      <td>2114</td>\n",
       "      <td>32</td>\n",
       "      <td>4600</td>\n",
       "      <td>32</td>\n",
       "      <td>11:40.0</td>\n",
       "    </tr>\n",
       "    <tr>\n",
       "      <th>6</th>\n",
       "      <td>2021.07.07.00</td>\n",
       "      <td>864</td>\n",
       "      <td>11</td>\n",
       "      <td>778</td>\n",
       "      <td>8</td>\n",
       "      <td>1525</td>\n",
       "      <td>26</td>\n",
       "      <td>1524</td>\n",
       "      <td>24</td>\n",
       "      <td>1753</td>\n",
       "      <td>...</td>\n",
       "      <td>32</td>\n",
       "      <td>3528</td>\n",
       "      <td>67</td>\n",
       "      <td>3162</td>\n",
       "      <td>32</td>\n",
       "      <td>2082</td>\n",
       "      <td>20</td>\n",
       "      <td>4566</td>\n",
       "      <td>30</td>\n",
       "      <td>11:40.0</td>\n",
       "    </tr>\n",
       "    <tr>\n",
       "      <th>7</th>\n",
       "      <td>2021.07.06.00</td>\n",
       "      <td>853</td>\n",
       "      <td>3</td>\n",
       "      <td>770</td>\n",
       "      <td>3</td>\n",
       "      <td>1499</td>\n",
       "      <td>16</td>\n",
       "      <td>1499</td>\n",
       "      <td>18</td>\n",
       "      <td>1726</td>\n",
       "      <td>...</td>\n",
       "      <td>19</td>\n",
       "      <td>3461</td>\n",
       "      <td>36</td>\n",
       "      <td>3130</td>\n",
       "      <td>20</td>\n",
       "      <td>2061</td>\n",
       "      <td>7</td>\n",
       "      <td>4535</td>\n",
       "      <td>17</td>\n",
       "      <td>11:40.0</td>\n",
       "    </tr>\n",
       "    <tr>\n",
       "      <th>8</th>\n",
       "      <td>2021.07.05.00</td>\n",
       "      <td>850</td>\n",
       "      <td>8</td>\n",
       "      <td>768</td>\n",
       "      <td>8</td>\n",
       "      <td>1483</td>\n",
       "      <td>19</td>\n",
       "      <td>1481</td>\n",
       "      <td>6</td>\n",
       "      <td>1715</td>\n",
       "      <td>...</td>\n",
       "      <td>19</td>\n",
       "      <td>3426</td>\n",
       "      <td>34</td>\n",
       "      <td>3109</td>\n",
       "      <td>19</td>\n",
       "      <td>2054</td>\n",
       "      <td>4</td>\n",
       "      <td>4517</td>\n",
       "      <td>7</td>\n",
       "      <td>11:40.0</td>\n",
       "    </tr>\n",
       "    <tr>\n",
       "      <th>9</th>\n",
       "      <td>2021.07.04.00</td>\n",
       "      <td>842</td>\n",
       "      <td>7</td>\n",
       "      <td>760</td>\n",
       "      <td>4</td>\n",
       "      <td>1464</td>\n",
       "      <td>13</td>\n",
       "      <td>1475</td>\n",
       "      <td>15</td>\n",
       "      <td>1702</td>\n",
       "      <td>...</td>\n",
       "      <td>18</td>\n",
       "      <td>3392</td>\n",
       "      <td>19</td>\n",
       "      <td>3090</td>\n",
       "      <td>21</td>\n",
       "      <td>2050</td>\n",
       "      <td>8</td>\n",
       "      <td>4510</td>\n",
       "      <td>15</td>\n",
       "      <td>11:40.0</td>\n",
       "    </tr>\n",
       "  </tbody>\n",
       "</table>\n",
       "<p>10 rows × 54 columns</p>\n",
       "</div>"
      ],
      "text/plain": [
       "         자치구 기준일  종로구 전체  종로구 추가  중구 전체  중구 추가  용산구 전체  용산구 추가  성동구 전체  \\\n",
       "0  2021.07.13.00     901      13    813      5    1611      13    1662   \n",
       "1  2021.07.12.00     888       5    808      2    1598       9    1643   \n",
       "2  2021.07.11.00     883       4    806      3    1589      14    1633   \n",
       "3  2021.07.10.00     879       9    803     10    1575      15    1601   \n",
       "4  2021.07.09.00     870       3    793      6    1560      17    1580   \n",
       "5  2021.07.08.00     869       6    788     10    1543      18    1559   \n",
       "6  2021.07.07.00     864      11    778      8    1525      26    1524   \n",
       "7  2021.07.06.00     853       3    770      3    1499      16    1499   \n",
       "8  2021.07.05.00     850       8    768      8    1483      19    1481   \n",
       "9  2021.07.04.00     842       7    760      4    1464      13    1475   \n",
       "\n",
       "   성동구 추가  광진구 전체  ...  서추구 추가  강남구 전체  강남구 추가  송파구 전체  송파구 추가  강동구 전체  \\\n",
       "0      19    1866  ...      10    3836      46    3332      30    2195   \n",
       "1       9    1853  ...      22    3792      42    3302      36    2182   \n",
       "2      32    1831  ...      26    3750      61    3267      36    2172   \n",
       "3      20    1816  ...      27    3689      58    3231      16    2153   \n",
       "4      22    1799  ...      29    3631      44    3215      26    2139   \n",
       "5      36    1775  ...      27    3587      57    3188      27    2114   \n",
       "6      24    1753  ...      32    3528      67    3162      32    2082   \n",
       "7      18    1726  ...      19    3461      36    3130      20    2061   \n",
       "8       6    1715  ...      19    3426      34    3109      19    2054   \n",
       "9      15    1702  ...      18    3392      19    3090      21    2050   \n",
       "\n",
       "   강동구 추가  기타 전체  기타 추가      수집일  \n",
       "0      13   4711     18  11:40.0  \n",
       "1      10   4690     13  11:40.0  \n",
       "2      19   4677     26  11:40.0  \n",
       "3      14   4651     26  11:40.0  \n",
       "4      25   4625     22  11:40.0  \n",
       "5      32   4600     32  11:40.0  \n",
       "6      20   4566     30  11:40.0  \n",
       "7       7   4535     17  11:40.0  \n",
       "8       4   4517      7  11:40.0  \n",
       "9       8   4510     15  11:40.0  \n",
       "\n",
       "[10 rows x 54 columns]"
      ]
     },
     "execution_count": 38,
     "metadata": {},
     "output_type": "execute_result"
    }
   ],
   "source": [
    "# import dataset\n",
    "df_covid = pd.read_csv('data/서울특별시 코로나19 자치구별 확진자 발생동향.csv', encoding = \"EUC-KR\")\n",
    "\n",
    "df_covid.head(10)"
   ]
  },
  {
   "cell_type": "markdown",
   "id": "2b8b298d",
   "metadata": {},
   "source": [
    "# 통계분석"
   ]
  },
  {
   "cell_type": "markdown",
   "id": "f7a957ae",
   "metadata": {},
   "source": [
    "## 독립표본 T-검정 (T-test)"
   ]
  },
  {
   "cell_type": "code",
   "execution_count": 56,
   "id": "8bd406ea",
   "metadata": {},
   "outputs": [
    {
     "data": {
      "text/html": [
       "<div>\n",
       "<style scoped>\n",
       "    .dataframe tbody tr th:only-of-type {\n",
       "        vertical-align: middle;\n",
       "    }\n",
       "\n",
       "    .dataframe tbody tr th {\n",
       "        vertical-align: top;\n",
       "    }\n",
       "\n",
       "    .dataframe thead th {\n",
       "        text-align: right;\n",
       "    }\n",
       "</style>\n",
       "<table border=\"1\" class=\"dataframe\">\n",
       "  <thead>\n",
       "    <tr style=\"text-align: right;\">\n",
       "      <th></th>\n",
       "      <th>age</th>\n",
       "      <th>gender</th>\n",
       "      <th>glucose</th>\n",
       "      <th>Tong_pres_m</th>\n",
       "      <th>hand_grip</th>\n",
       "      <th>masset_thick_mean</th>\n",
       "    </tr>\n",
       "  </thead>\n",
       "  <tbody>\n",
       "    <tr>\n",
       "      <th>0</th>\n",
       "      <td>52</td>\n",
       "      <td>f</td>\n",
       "      <td>71</td>\n",
       "      <td>39.866667</td>\n",
       "      <td>23.1</td>\n",
       "      <td>9.166667</td>\n",
       "    </tr>\n",
       "    <tr>\n",
       "      <th>1</th>\n",
       "      <td>25</td>\n",
       "      <td>f</td>\n",
       "      <td>159</td>\n",
       "      <td>39.100000</td>\n",
       "      <td>20.0</td>\n",
       "      <td>12.566667</td>\n",
       "    </tr>\n",
       "    <tr>\n",
       "      <th>2</th>\n",
       "      <td>33</td>\n",
       "      <td>f</td>\n",
       "      <td>205</td>\n",
       "      <td>30.733333</td>\n",
       "      <td>26.2</td>\n",
       "      <td>12.033333</td>\n",
       "    </tr>\n",
       "    <tr>\n",
       "      <th>3</th>\n",
       "      <td>27</td>\n",
       "      <td>f</td>\n",
       "      <td>200</td>\n",
       "      <td>31.733333</td>\n",
       "      <td>20.1</td>\n",
       "      <td>13.166667</td>\n",
       "    </tr>\n",
       "    <tr>\n",
       "      <th>4</th>\n",
       "      <td>26</td>\n",
       "      <td>m</td>\n",
       "      <td>117</td>\n",
       "      <td>20.000000</td>\n",
       "      <td>45.5</td>\n",
       "      <td>13.900000</td>\n",
       "    </tr>\n",
       "  </tbody>\n",
       "</table>\n",
       "</div>"
      ],
      "text/plain": [
       "   age gender  glucose  Tong_pres_m  hand_grip  masset_thick_mean\n",
       "0   52      f       71    39.866667       23.1           9.166667\n",
       "1   25      f      159    39.100000       20.0          12.566667\n",
       "2   33      f      205    30.733333       26.2          12.033333\n",
       "3   27      f      200    31.733333       20.1          13.166667\n",
       "4   26      m      117    20.000000       45.5          13.900000"
      ]
     },
     "execution_count": 56,
     "metadata": {},
     "output_type": "execute_result"
    }
   ],
   "source": [
    "dental = pd.read_excel('data/dental.xlsx', header=0)\n",
    "dental.head()"
   ]
  },
  {
   "cell_type": "markdown",
   "id": "5d8ee768",
   "metadata": {},
   "source": [
    "## Boxplot 그리기"
   ]
  },
  {
   "cell_type": "code",
   "execution_count": null,
   "id": "b60b1cba",
   "metadata": {},
   "outputs": [],
   "source": [
    "import matplotlib.pyplot as plt\n",
    "\n",
    "plt.boxplot([dm['hand_grip'], df['hand_grip']], labels = [\"Male\", \"Female\"])\n",
    "plt.ylabel(\"Hand grip intensity\")\n",
    "plt.show()"
   ]
  },
  {
   "cell_type": "code",
   "execution_count": 57,
   "id": "1c1e796d",
   "metadata": {},
   "outputs": [
    {
     "data": {
      "text/plain": [
       "Ttest_indResult(statistic=6.661240286332687, pvalue=1.1017815026094977e-05)"
      ]
     },
     "execution_count": 57,
     "metadata": {},
     "output_type": "execute_result"
    }
   ],
   "source": [
    "from scipy.stats import ttest_ind\n",
    "\n",
    "\n",
    "dm = dental[dental[\"gender\"] == \"m\"]\n",
    "df = dental[dental[\"gender\"] == \"f\"]\n",
    "\n",
    "# return: statistics and p-value\n",
    "ttest_ind(dm['hand_grip'], df['hand_grip'], equal_var=False, alternative='two-sided')"
   ]
  },
  {
   "cell_type": "code",
   "execution_count": 58,
   "id": "8b86a0c4",
   "metadata": {},
   "outputs": [
    {
     "data": {
      "image/png": "[encoded data removed]",
      "text/plain": [
       "<Figure size 432x288 with 1 Axes>"
      ]
     },
     "metadata": {
      "needs_background": "light"
     },
     "output_type": "display_data"
    }
   ],
   "source": []
  },
  {
   "cell_type": "markdown",
   "id": "8521b3e3",
   "metadata": {},
   "source": [
    "## 산점도 그리기"
   ]
  },
  {
   "cell_type": "code",
   "execution_count": 61,
   "id": "b44b20c7",
   "metadata": {},
   "outputs": [
    {
     "data": {
      "image/png": "[encoded data removed]",
      "text/plain": [
       "<Figure size 432x288 with 1 Axes>"
      ]
     },
     "metadata": {
      "needs_background": "light"
     },
     "output_type": "display_data"
    }
   ],
   "source": [
    "x = dental[\"age\"]\n",
    "y = dental[\"hand_grip\"]\n",
    "# print(x)\n",
    "\n",
    "plt.scatter(x, y, s = 100, c=\"r\", alpha=0.5)\n",
    "plt.show()\n"
   ]
  },
  {
   "cell_type": "markdown",
   "id": "d8288829",
   "metadata": {},
   "source": [
    "## 회귀분석 (Regression)"
   ]
  },
  {
   "cell_type": "code",
   "execution_count": 59,
   "id": "25744905",
   "metadata": {},
   "outputs": [
    {
     "data": {
      "text/plain": [
       "LinregressResult(slope=0.003123715577476358, intercept=29.380656326389342, rvalue=0.0059835043236780685, pvalue=0.9806046221380396, stderr=0.12661455675044594, intercept_stderr=6.647089695763202)"
      ]
     },
     "execution_count": 59,
     "metadata": {},
     "output_type": "execute_result"
    }
   ],
   "source": [
    "from scipy.stats import linregress\n",
    "\n",
    "x = dental[\"age\"]\n",
    "y = dental[\"hand_grip\"]\n",
    "linregress(x,y)"
   ]
  },
  {
   "cell_type": "code",
   "execution_count": 62,
   "id": "23fc5177",
   "metadata": {},
   "outputs": [
    {
     "data": {
      "image/png": "[encoded data removed]",
      "text/plain": [
       "<Figure size 432x288 with 1 Axes>"
      ]
     },
     "metadata": {
      "needs_background": "light"
     },
     "output_type": "display_data"
    }
   ],
   "source": [
    "x = dental[\"age\"]\n",
    "y = dental[\"hand_grip\"]\n",
    "# print(x)\n",
    "m, b = np.polyfit(x, y, 1)\n",
    "\n",
    "plt.scatter(x, y, s = 100, c=\"r\", alpha=0.5)\n",
    "plt.plot(x, m*x + b)\n",
    "\n",
    "plt.show()"
   ]
  }
 ],
 "metadata": {
  "kernelspec": {
   "display_name": "Python 3",
   "language": "python",
   "name": "python3"
  },
  "language_info": {
   "codemirror_mode": {
    "name": "ipython",
    "version": 3
   },
   "file_extension": ".py",
   "mimetype": "text/x-python",
   "name": "python",
   "nbconvert_exporter": "python",
   "pygments_lexer": "ipython3",
   "version": "3.9.5"
  }
 },
 "nbformat": 4,
 "nbformat_minor": 5
}
